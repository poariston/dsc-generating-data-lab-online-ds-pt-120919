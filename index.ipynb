{
 "cells": [
  {
   "cell_type": "markdown",
   "metadata": {},
   "source": [
    "# Generating Data - Lab"
   ]
  },
  {
   "cell_type": "markdown",
   "metadata": {},
   "source": [
    "## Introduction\n",
    "\n",
    "In this lab, we shall practice some of the data generation techniques that we saw in the previous lesson in order to generate datasets for regression and classification purposes. We will run a couple of simple simulations to help us generate different datasets by controlling noise and variance parameters in the data generation process. We will also look at the statistical indicators and visual output to see how these parameters affect the accuracy of an algorithm. \n",
    "\n",
    "## Objectives\n",
    "In this lab you will:\n",
    "\n",
    "- Generate datasets for classification problems\n",
    "- Generate datasets for regression problems"
   ]
  },
  {
   "cell_type": "markdown",
   "metadata": {},
   "source": [
    "## Generate data for classfication\n",
    "\n",
    "Use `make_blobs()` to create a binary classification dataset with 100 samples, 2 features, and 2 centers (where each center corresponds to a different class label). Set `random_state = 42` for reproducibility.\n",
    "\n",
    "_Hint: Here's a link to the documentation for_ [`make_blobs()`](https://scikit-learn.org/stable/modules/generated/sklearn.datasets.make_blobs.html)."
   ]
  },
  {
   "cell_type": "code",
   "execution_count": 15,
   "metadata": {},
   "outputs": [],
   "source": [
    "# Your code here \n",
    "from sklearn.datasets.samples_generator import make_blobs\n",
    "X,y = make_blobs(n_samples=100, centers = 2, n_features=2,random_state=42)"
   ]
  },
  {
   "cell_type": "code",
   "execution_count": 16,
   "metadata": {},
   "outputs": [
    {
     "data": {
      "text/plain": [
       "(numpy.ndarray, numpy.ndarray, (100, 2), (100,))"
      ]
     },
     "execution_count": 16,
     "metadata": {},
     "output_type": "execute_result"
    }
   ],
   "source": [
    "type(X),type(y),X.shape,y.shape"
   ]
  },
  {
   "cell_type": "markdown",
   "metadata": {},
   "source": [
    "Place the data in a `pandas` DataFrame called `df`, and inspect the first five rows of the data. \n",
    "\n",
    "_Hint: Your dataframe should have three columns in total, two for the features and one for the class label._ "
   ]
  },
  {
   "cell_type": "code",
   "execution_count": 17,
   "metadata": {},
   "outputs": [],
   "source": [
    "import pandas as pd\n",
    "df =pd.DataFrame(X)"
   ]
  },
  {
   "cell_type": "code",
   "execution_count": 18,
   "metadata": {},
   "outputs": [],
   "source": [
    "df['label']=y\n",
    "df.columns = ['x','y' , 'label']"
   ]
  },
  {
   "cell_type": "code",
   "execution_count": 19,
   "metadata": {},
   "outputs": [
    {
     "data": {
      "text/html": [
       "<div>\n",
       "<style scoped>\n",
       "    .dataframe tbody tr th:only-of-type {\n",
       "        vertical-align: middle;\n",
       "    }\n",
       "\n",
       "    .dataframe tbody tr th {\n",
       "        vertical-align: top;\n",
       "    }\n",
       "\n",
       "    .dataframe thead th {\n",
       "        text-align: right;\n",
       "    }\n",
       "</style>\n",
       "<table border=\"1\" class=\"dataframe\">\n",
       "  <thead>\n",
       "    <tr style=\"text-align: right;\">\n",
       "      <th></th>\n",
       "      <th>x</th>\n",
       "      <th>y</th>\n",
       "      <th>label</th>\n",
       "    </tr>\n",
       "  </thead>\n",
       "  <tbody>\n",
       "    <tr>\n",
       "      <th>0</th>\n",
       "      <td>-2.988372</td>\n",
       "      <td>8.828627</td>\n",
       "      <td>0</td>\n",
       "    </tr>\n",
       "    <tr>\n",
       "      <th>1</th>\n",
       "      <td>5.722930</td>\n",
       "      <td>3.026972</td>\n",
       "      <td>1</td>\n",
       "    </tr>\n",
       "    <tr>\n",
       "      <th>2</th>\n",
       "      <td>-3.053580</td>\n",
       "      <td>9.125209</td>\n",
       "      <td>0</td>\n",
       "    </tr>\n",
       "    <tr>\n",
       "      <th>3</th>\n",
       "      <td>5.461939</td>\n",
       "      <td>3.869963</td>\n",
       "      <td>1</td>\n",
       "    </tr>\n",
       "    <tr>\n",
       "      <th>4</th>\n",
       "      <td>4.867339</td>\n",
       "      <td>3.280312</td>\n",
       "      <td>1</td>\n",
       "    </tr>\n",
       "    <tr>\n",
       "      <th>...</th>\n",
       "      <td>...</td>\n",
       "      <td>...</td>\n",
       "      <td>...</td>\n",
       "    </tr>\n",
       "    <tr>\n",
       "      <th>95</th>\n",
       "      <td>-1.478198</td>\n",
       "      <td>9.945566</td>\n",
       "      <td>0</td>\n",
       "    </tr>\n",
       "    <tr>\n",
       "      <th>96</th>\n",
       "      <td>-1.593796</td>\n",
       "      <td>9.343037</td>\n",
       "      <td>0</td>\n",
       "    </tr>\n",
       "    <tr>\n",
       "      <th>97</th>\n",
       "      <td>3.793085</td>\n",
       "      <td>0.458322</td>\n",
       "      <td>1</td>\n",
       "    </tr>\n",
       "    <tr>\n",
       "      <th>98</th>\n",
       "      <td>-2.728870</td>\n",
       "      <td>9.371399</td>\n",
       "      <td>0</td>\n",
       "    </tr>\n",
       "    <tr>\n",
       "      <th>99</th>\n",
       "      <td>-2.504084</td>\n",
       "      <td>8.779699</td>\n",
       "      <td>0</td>\n",
       "    </tr>\n",
       "  </tbody>\n",
       "</table>\n",
       "<p>100 rows × 3 columns</p>\n",
       "</div>"
      ],
      "text/plain": [
       "           x         y  label\n",
       "0  -2.988372  8.828627      0\n",
       "1   5.722930  3.026972      1\n",
       "2  -3.053580  9.125209      0\n",
       "3   5.461939  3.869963      1\n",
       "4   4.867339  3.280312      1\n",
       "..       ...       ...    ...\n",
       "95 -1.478198  9.945566      0\n",
       "96 -1.593796  9.343037      0\n",
       "97  3.793085  0.458322      1\n",
       "98 -2.728870  9.371399      0\n",
       "99 -2.504084  8.779699      0\n",
       "\n",
       "[100 rows x 3 columns]"
      ]
     },
     "execution_count": 19,
     "metadata": {},
     "output_type": "execute_result"
    }
   ],
   "source": [
    "df"
   ]
  },
  {
   "cell_type": "code",
   "execution_count": 20,
   "metadata": {},
   "outputs": [
    {
     "name": "stdout",
     "output_type": "stream",
     "text": [
      "0 \n",
      "\n",
      "\n",
      "            x          y  label\n",
      "0  -2.988372   8.828627      0\n",
      "2  -3.053580   9.125209      0\n",
      "5  -2.147802  10.552323      0\n",
      "8  -2.901306   7.550771      0\n",
      "9  -3.348415   8.705074      0\n",
      "10 -2.441669   7.589538      0\n",
      "12 -2.978672   9.556846      0\n",
      "13 -3.837384   9.211147      0\n",
      "19 -2.417437   7.026717      0\n",
      "25 -0.929985   9.781721      0\n",
      "27 -1.696672  10.370526      0\n",
      "30 -2.743351   8.780149      0\n",
      "31 -3.987720   8.294442      0\n",
      "32 -3.660191   9.389984      0\n",
      "33 -1.043549   8.788510      0\n",
      "34 -2.165579   7.251246      0\n",
      "37 -2.177934   9.989831      0\n",
      "38 -3.317691   8.512529      0\n",
      "39 -2.300334   7.054616      0\n",
      "40 -1.770731   9.185654      0\n",
      "45 -1.031304   8.496016      0\n",
      "46 -2.545024  10.578930      0\n",
      "47 -2.213077   9.275341      0\n",
      "48 -3.615533   7.818080      0\n",
      "51 -4.234115   8.451999      0\n",
      "52 -2.972615   8.548556      0\n",
      "54 -2.267235   7.101006      0\n",
      "56 -2.412120   9.982931      0\n",
      "59 -2.147562   8.369166      0\n",
      "60 -2.422151   8.715279      0\n",
      "62 -3.038958   9.527554      0\n",
      "67 -3.924568   8.593641      0\n",
      "70 -2.969836  10.071408      0\n",
      "77 -2.581208  10.017819      0\n",
      "79 -2.522695   7.956575      0\n",
      "81 -3.110904  10.866564      0\n",
      "82 -1.686653   7.793442      0\n",
      "83 -3.417222   7.601982      0\n",
      "85 -2.624846   8.713182      0\n",
      "86 -3.211251   8.686624      0\n",
      "87 -5.128943   9.836189      0\n",
      "89 -3.522029   9.328533      0\n",
      "91 -3.109836   8.722592      0\n",
      "92 -2.185114   8.629204      0\n",
      "93 -3.186120   9.625962      0\n",
      "94 -2.851912   8.212009      0\n",
      "95 -1.478198   9.945566      0\n",
      "96 -1.593796   9.343037      0\n",
      "98 -2.728870   9.371399      0\n",
      "99 -2.504084   8.779699      0 \n",
      "\n",
      "\n",
      "\n",
      "1 \n",
      "\n",
      "\n",
      "            x         y  label\n",
      "1   5.722930  3.026972      1\n",
      "3   5.461939  3.869963      1\n",
      "4   4.867339  3.280312      1\n",
      "6   4.916570  2.800353      1\n",
      "7   3.089215  2.041733      1\n",
      "11  3.402928  0.652713      1\n",
      "14  3.959854  2.205423      1\n",
      "15  3.856626  1.651108      1\n",
      "16  4.700109  4.436412      1\n",
      "17  3.568986  2.455642      1\n",
      "18  4.698088  0.830199      1\n",
      "20  4.853973  0.727431      1\n",
      "21  4.447518  2.274717      1\n",
      "22  5.430911  1.063782      1\n",
      "23  5.603255  2.385951      1\n",
      "24  4.899762  2.754993      1\n",
      "26  4.562777  2.314322      1\n",
      "28  5.161820  2.270154      1\n",
      "29  4.375222  4.693339      1\n",
      "35  5.226736  4.163625      1\n",
      "36  4.813060  2.358487      1\n",
      "41  5.453396  0.742305      1\n",
      "42  3.665197  2.760254      1\n",
      "43  5.113116  1.900341      1\n",
      "44  4.394491  1.219434      1\n",
      "49  3.448575  2.629723      1\n",
      "50  4.652881  3.426704      1\n",
      "53  4.997666  2.533954      1\n",
      "55  5.265546  1.116012      1\n",
      "57  4.897429  1.898724      1\n",
      "58  3.750364  1.157359      1\n",
      "61  4.416416  2.687170      1\n",
      "63  2.721108  1.946656      1\n",
      "64  5.798474  1.152487      1\n",
      "65  3.756021  2.126895      1\n",
      "66  6.526065  2.147747      1\n",
      "68  3.032396  2.157804      1\n",
      "69  4.890372  2.319618      1\n",
      "71  3.649343  1.406872      1\n",
      "72  6.505653  2.447003      1\n",
      "73  5.782702  2.725103      1\n",
      "74  4.193364  2.829568      1\n",
      "75  4.478593  2.377221      1\n",
      "76  4.739530  1.469694      1\n",
      "78  3.720455  3.523104      1\n",
      "80  4.932951  1.258818      1\n",
      "84  3.577575  2.446762      1\n",
      "88  4.605167  0.804492      1\n",
      "90  6.042673  0.571319      1\n",
      "97  3.793085  0.458322      1 \n",
      "\n",
      "\n",
      "\n"
     ]
    }
   ],
   "source": [
    "dfgrouped = df.groupby('label')    # df is a 3 columns dataframe.\n",
    "for key, group in dfgrouped:\n",
    "    print(key,'\\n\\n\\n',group,'\\n\\n\\n')"
   ]
  },
  {
   "cell_type": "markdown",
   "metadata": {},
   "source": [
    "Create a scatter plot of the data, while color-coding the different classes.\n",
    "\n",
    "_Hint: You may find this dictionary mapping class labels to colors useful: \n",
    "`colors = {0: 'red', 1: 'blue'}`_"
   ]
  },
  {
   "cell_type": "code",
   "execution_count": 21,
   "metadata": {},
   "outputs": [
    {
     "data": {
      "image/png": "[encoded data removed]",
      "text/plain": [
       "<Figure size 432x288 with 1 Axes>"
      ]
     },
     "metadata": {
      "needs_background": "light"
     },
     "output_type": "display_data"
    }
   ],
   "source": [
    "import matplotlib.pyplot as plt\n",
    "colors={0:'red',1:'blue'}\n",
    "dfgrouped = df.groupby('label')    # df is a 3 columns dataframe.\n",
    "fig, ax = plt.subplots()  # this is meant to plot repeatedly on the same graph\n",
    "for key, group in dfgrouped:\n",
    "    group.plot(ax=ax, kind='scatter', x='x', y='y', label=key, color=colors[key]) # 3D (x,y,color)\n",
    "plt.show() "
   ]
  },
  {
   "cell_type": "markdown",
   "metadata": {},
   "source": [
    "Repeat this exercise two times by setting `cluster_std = 0.5` and `cluster_std = 2`. \n",
    "\n",
    "Keep all other parameters passed to `make_blobs()` equal. \n",
    "\n",
    "That is:\n",
    "* Create a classification dataset with 100 samples, 2 features, and 2 centers using `make_blobs()` \n",
    "    * Set `random_state = 42` for reproducibility, and pass the appropriate value for `cluster_std`  \n",
    "* Place the data in a `pandas` DataFrame called `df`  \n",
    "* Plot the values on a scatter plot, while color-coding the different classes \n",
    "\n",
    "What is the effect of changing `cluster_std` based on your plots? "
   ]
  },
  {
   "cell_type": "code",
   "execution_count": 22,
   "metadata": {},
   "outputs": [
    {
     "data": {
      "image/png": "[encoded data removed]",
      "text/plain": [
       "<Figure size 432x288 with 1 Axes>"
      ]
     },
     "metadata": {
      "needs_background": "light"
     },
     "output_type": "display_data"
    }
   ],
   "source": [
    "# Your code here: \n",
    "# cluster_std = 0.5\n",
    "X,y = make_blobs(n_samples=100, centers = 2, n_features=2,cluster_std = 0.5,random_state=42)\n",
    "df =pd.DataFrame(X)\n",
    "df['label']=y\n",
    "df.columns = ['x','y' , 'label']\n",
    "colors={0:'red',1:'blue'}\n",
    "dfgrouped = df.groupby('label')    # df is a 3 columns dataframe.\n",
    "fig, ax = plt.subplots()  # this is meant to plot repeatedly on the same graph\n",
    "for key, group in dfgrouped:\n",
    "    group.plot(ax=ax, kind='scatter', x='x', y='y', label=key, color=colors[key]) # 3D (x,y,color)\n",
    "plt.show() "
   ]
  },
  {
   "cell_type": "code",
   "execution_count": 24,
   "metadata": {},
   "outputs": [
    {
     "data": {
      "image/png": "[encoded data removed]",
      "text/plain": [
       "<Figure size 432x288 with 1 Axes>"
      ]
     },
     "metadata": {
      "needs_background": "light"
     },
     "output_type": "display_data"
    }
   ],
   "source": [
    "# Your code here: \n",
    "# clusted_std = 2\n",
    "X,y = make_blobs(n_samples=100, centers = 2, n_features=2,cluster_std = 2,random_state=42)\n",
    "df =pd.DataFrame(X)\n",
    "df['label']=y\n",
    "df.columns = ['x','y' , 'label']\n",
    "colors={0:'red',1:'blue'}\n",
    "dfgrouped = df.groupby('label')    # df is a 3 columns dataframe.\n",
    "fig, ax = plt.subplots()  # this is meant to plot repeatedly on the same graph\n",
    "for key, group in dfgrouped:\n",
    "    group.plot(ax=ax, kind='scatter', x='x', y='y', label=key, color=colors[key]) # 3D (x,y,color)\n",
    "plt.show() "
   ]
  },
  {
   "cell_type": "code",
   "execution_count": null,
   "metadata": {},
   "outputs": [],
   "source": [
    "# Your comments here\n",
    "# cluster_std = The standard deviation of the clusters. The default value is 1"
   ]
  },
  {
   "cell_type": "markdown",
   "metadata": {},
   "source": [
    "## Generate data for regression\n",
    "\n",
    "Create a function `reg_simulation()` to run a regression simulation creating a number of datasets with the `make_regression()` data generation function. Perform the following tasks:\n",
    "\n",
    "* Create `reg_simulation()` with `n` (noise) and `random_state` as input parameters\n",
    "    * Make a regression dataset (X, y) with 100 samples using a given noise value and random state\n",
    "    * Plot the data as a scatter plot \n",
    "    * Calculate and plot a regression line on the plot and calculate $R^2$ (you can do this in `statsmodels` or `sklearn`)\n",
    "    * Label the plot with the noise value and the calculated $R^2$ \n",
    "    \n",
    "* Pass a fixed random state and values from `[10, 25, 40, 50, 100, 200]` as noise values iteratively to the function above \n",
    "* Inspect and comment on the output "
   ]
  },
  {
   "cell_type": "code",
   "execution_count": null,
   "metadata": {},
   "outputs": [],
   "source": [
    "# Import necessary libraries\n",
    "\n",
    "\n",
    "def reg_simulation(n, random_state):\n",
    "    \n",
    "    # Generate X and y\n",
    "\n",
    "    # Use X,y to draw a scatter plot\n",
    "    # Fit a linear regression model to X , y and calculate r2\n",
    "    # label and plot the regression line \n",
    "    pass\n",
    "\n",
    "\n",
    "random_state = random_state = np.random.RandomState(42)\n",
    "\n",
    "for n in [10, 25, 40, 50, 100, 200]:\n",
    "    reg_simulation(n, random_state)"
   ]
  },
  {
   "cell_type": "code",
   "execution_count": null,
   "metadata": {},
   "outputs": [],
   "source": [
    "# Your comments here"
   ]
  },
  {
   "cell_type": "markdown",
   "metadata": {},
   "source": [
    "## Summary \n",
    "\n",
    "In this lesson, we learned how to generate random datasets for classification and regression problems. We ran simulations for this and fitted simple models to view the effect of random data parameters including noise level and standard deviation on the performance of parameters, visually as well as objectively. These skills will come in handy while testing model performance and robustness in the future. "
   ]
  }
 ],
 "metadata": {
  "kernelspec": {
   "display_name": "Python 3",
   "language": "python",
   "name": "python3"
  },
  "language_info": {
   "codemirror_mode": {
    "name": "ipython",
    "version": 3
   },
   "file_extension": ".py",
   "mimetype": "text/x-python",
   "name": "python",
   "nbconvert_exporter": "python",
   "pygments_lexer": "ipython3",
   "version": "3.6.9"
  },
  "toc": {
   "base_numbering": 1,
   "nav_menu": {},
   "number_sections": true,
   "sideBar": true,
   "skip_h1_title": false,
   "title_cell": "Table of Contents",
   "title_sidebar": "Contents",
   "toc_cell": false,
   "toc_position": {},
   "toc_section_display": true,
   "toc_window_display": false
  }
 },
 "nbformat": 4,
 "nbformat_minor": 2
}
